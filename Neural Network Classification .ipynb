{
 "metadata": {
  "name": "",
  "signature": "sha256:a493422b296305eb71b6813c387a12f4d7ec3e089c830de982458d88c0ae7e1d"
 },
 "nbformat": 3,
 "nbformat_minor": 0,
 "worksheets": [
  {
   "cells": [
    {
     "cell_type": "code",
     "collapsed": false,
     "input": [
      "from pybrain.datasets import SupervisedDataSet\n",
      "from pybrain.datasets import ClassificationDataSet\n",
      "from pybrain.supervised.trainers import BackpropTrainer\n",
      "from pybrain.tools.shortcuts import buildNetwork\n",
      "from pybrain.structure.modules import TanhLayer\n",
      "from pybrain.structure.modules import SigmoidLayer\n",
      "from pybrain.utilities           import percentError\n",
      "\n",
      "file = open('train_3days_rehashed.txt')\n",
      "data =[]\n",
      "#test =[]\n",
      "for line in file:\n",
      "    data.append(line)\n",
      "    #test.append(line)\n",
      "file.close()\n",
      "\n",
      "# too large to train, use only 1000000\n",
      "f2 = open('train_3_spilit.txt','w')\n",
      "for i in range (1000000):\n",
      "    f2.write(data[i])        \n",
      "f2.close()\n",
      "\n"
     ],
     "language": "python",
     "metadata": {},
     "outputs": [],
     "prompt_number": 1
    },
    {
     "cell_type": "code",
     "collapsed": false,
     "input": [
      "#prepare data\n",
      "file = open('train_3_spilit.txt')\n",
      "trndata = ClassificationDataSet(5, 1, nb_classes=2)\n",
      "# prepare the training data\n",
      "for line in file:\n",
      "    li = list(map(int, line.split(',')))\n",
      "    trndata.addSample( (li[1:6]) , (li[0]) )\n",
      "\n",
      "file2 = open('test_4th_rehashed.txt')\n",
      "tstdata=ClassificationDataSet(5,1,nb_classes=2)\n",
      "for line in file2:    \n",
      "    li = list(map(int, line.split(',')))\n",
      "    tstdata.addSample( (li[1:6]) , (li[0]) )"
     ],
     "language": "python",
     "metadata": {},
     "outputs": [],
     "prompt_number": 2
    },
    {
     "cell_type": "code",
     "collapsed": false,
     "input": [
      "# create a neural network that has 5 input neuron as the input layer, 2 hidden layers with 8 neurons each, and 1 output layer\n",
      "# use sigmoid function as the activation function \n",
      "net     = buildNetwork(5, 8, 8, 1, bias=True, hiddenclass=SigmoidLayer)\n",
      "trainer = BackpropTrainer(net, trndata)\n"
     ],
     "language": "python",
     "metadata": {},
     "outputs": []
    },
    {
     "cell_type": "code",
     "collapsed": false,
     "input": [
      "trainer.trainEpochs( 15 )\n",
      "trnresult = percentError( trainer.testOnClassData(),     trndata['target'] )\n",
      "tstresult = percentError( trainer.testOnClassData(   dataset=tstdata ), tstdata['target'] )\n",
      "\n",
      "\n",
      "print (\"epoch: %4d\" % trainer.totalepochs,  \"  train error: %5.8f%%\" % trnresult,   \"  test error: %5.8f%%\" % tstresult)"
     ],
     "language": "python",
     "metadata": {},
     "outputs": []
    },
    {
     "cell_type": "code",
     "collapsed": false,
     "input": [],
     "language": "python",
     "metadata": {},
     "outputs": [],
     "prompt_number": 0
    },
    {
     "cell_type": "code",
     "collapsed": false,
     "input": [
      "#another neural network that uses tanh activation function\n",
      "\n",
      "net2     = buildNetwork(5, 10, 10, 1, bias=True, hiddenclass=TanhLayer)\n",
      "trainer2 = BackpropTrainer(net2, trndata)\n",
      "trainer2.trainEpochs( 3 )\n",
      "trnresult2 = percentError( trainer2.testOnClassData(),     trndata['target'] )\n",
      "tstresult2 = percentError( trainer2.testOnClassData(   dataset=tstdata ), tstdata['target'] )\n",
      "\n",
      "\n",
      "\n",
      "print (\"epoch: %4d\" % trainer2.totalepochs,  \"  train error: %5.8f%%\" % trnresult2,   \"  test error: %5.8f%%\" % tstresult2)"
     ],
     "language": "python",
     "metadata": {},
     "outputs": [
      {
       "output_type": "stream",
       "stream": "stdout",
       "text": [
        "epoch:    3   train error: 17.06000000%   test error: 17.47137632%\n"
       ]
      }
     ],
     "prompt_number": 3
    },
    {
     "cell_type": "code",
     "collapsed": false,
     "input": [],
     "language": "python",
     "metadata": {},
     "outputs": [],
     "prompt_number": 0
    },
    {
     "cell_type": "code",
     "collapsed": false,
     "input": [],
     "language": "python",
     "metadata": {},
     "outputs": []
    }
   ],
   "metadata": {}
  }
 ]
}