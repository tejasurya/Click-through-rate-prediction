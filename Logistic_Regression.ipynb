{
 "metadata": {
  "name": "",
  "signature": "sha256:94041e467fb276c0a45dedfb3ba624244df65d320095637748cce2e5c9e56ce1"
 },
 "nbformat": 3,
 "nbformat_minor": 0,
 "worksheets": [
  {
   "cells": [
    {
     "cell_type": "code",
     "collapsed": false,
     "input": [
      "from sklearn.linear_model import LinearRegression as lr\n",
      "import numpy as np\n",
      "import random\n",
      "'''\n",
      "training:\n",
      "banner_pos: 7\n",
      "site_category: 24\n",
      "app_category: 35\n",
      "device_model: 7291 -- skip due to memory limited\n",
      "device_type: 4\n",
      "'''\n",
      "\n",
      "'''\n",
      "target\n",
      "2. banner_pos     4       7\n",
      "3. site_category  7       24\n",
      "4. app_domain     9     440 -- skip\n",
      "5. app_category   10    35\n",
      "6. device_type    14    4\n",
      "7. device_conn_type 15   4\n",
      "8. C15            17    8\n",
      "9. C16            18    9\n",
      "10. C18            20   4\n",
      "11. C19            21   55\n",
      "'''\n",
      "\n",
      "\n",
      "pos = [0,7,7+24,7+24+35,7+24+35+4,7+24+35+4+4,7+24+35+4+4+8,7+24+35+4+4+8+9,7+24+35+4+4+8+9+4]\n",
      "all_number = 7+24+35+4+4+8+9+4+55\n",
      "\n",
      "#pos = [0,7,7+24,7+24+35]\n",
      "#all_number = 7+24+35+4\n",
      "\n",
      "data = []\n",
      "label = []\n",
      "count = 1\n",
      "input_train_file = 'train_1234_new_rehashed.txt'\n",
      "with open(input_train_file,'r') as infile:\n",
      "    for line in infile:\n",
      "        \n",
      "        k = random.randint(1,10)\n",
      "        if k > 2:\n",
      "            continue\n",
      "        \n",
      "        if count % 100000 == 0:\n",
      "            print count\n",
      "        count += 1\n",
      "        \n",
      "        li = list(map(int, line.split(',')))\n",
      "\n",
      "        data.append([0 for b in xrange(all_number)])\n",
      "        \n",
      "        for i in range(1,len(li)):\n",
      "            if i == 3:\n",
      "                continue\n",
      "            elif i > 3:\n",
      "                data[len(data) - 1][pos[i-2] + li[i]] = 1\n",
      "            else:\n",
      "                data[len(data) - 1][pos[i-1] + li[i]] = 1\n",
      "\n",
      "        \n",
      "        label.append(li[0])\n",
      "        \n",
      "print \"Done\"\n",
      "\n",
      "X = np.array(data)\n",
      "Y = np.array(label)\n",
      "lr_instance = lr()\n",
      "lr_instance.fit(X, Y)\n"
     ],
     "language": "python",
     "metadata": {},
     "outputs": [
      {
       "output_type": "stream",
       "stream": "stdout",
       "text": [
        "100000\n",
        "200000"
       ]
      },
      {
       "output_type": "stream",
       "stream": "stdout",
       "text": [
        "\n",
        "300000"
       ]
      },
      {
       "output_type": "stream",
       "stream": "stdout",
       "text": [
        "\n",
        "400000"
       ]
      },
      {
       "output_type": "stream",
       "stream": "stdout",
       "text": [
        "\n",
        "500000"
       ]
      },
      {
       "output_type": "stream",
       "stream": "stdout",
       "text": [
        "\n",
        "600000"
       ]
      },
      {
       "output_type": "stream",
       "stream": "stdout",
       "text": [
        "\n",
        "700000"
       ]
      },
      {
       "output_type": "stream",
       "stream": "stdout",
       "text": [
        "\n",
        "800000"
       ]
      },
      {
       "output_type": "stream",
       "stream": "stdout",
       "text": [
        "\n",
        "900000"
       ]
      },
      {
       "output_type": "stream",
       "stream": "stdout",
       "text": [
        "\n",
        "1000000"
       ]
      },
      {
       "output_type": "stream",
       "stream": "stdout",
       "text": [
        "\n",
        "1100000"
       ]
      },
      {
       "output_type": "stream",
       "stream": "stdout",
       "text": [
        "\n",
        "1200000"
       ]
      },
      {
       "output_type": "stream",
       "stream": "stdout",
       "text": [
        "\n",
        "1300000"
       ]
      },
      {
       "output_type": "stream",
       "stream": "stdout",
       "text": [
        "\n",
        "1400000"
       ]
      },
      {
       "output_type": "stream",
       "stream": "stdout",
       "text": [
        "\n",
        "1500000"
       ]
      },
      {
       "output_type": "stream",
       "stream": "stdout",
       "text": [
        "\n",
        "1600000"
       ]
      },
      {
       "output_type": "stream",
       "stream": "stdout",
       "text": [
        "\n",
        "1700000"
       ]
      },
      {
       "output_type": "stream",
       "stream": "stdout",
       "text": [
        "\n",
        "1800000"
       ]
      },
      {
       "output_type": "stream",
       "stream": "stdout",
       "text": [
        "\n",
        "1900000"
       ]
      },
      {
       "output_type": "stream",
       "stream": "stdout",
       "text": [
        "\n",
        "2000000"
       ]
      },
      {
       "output_type": "stream",
       "stream": "stdout",
       "text": [
        "\n",
        "2100000"
       ]
      },
      {
       "output_type": "stream",
       "stream": "stdout",
       "text": [
        "\n",
        "2200000"
       ]
      },
      {
       "output_type": "stream",
       "stream": "stdout",
       "text": [
        "\n",
        "2300000"
       ]
      },
      {
       "output_type": "stream",
       "stream": "stdout",
       "text": [
        "\n",
        "2400000"
       ]
      },
      {
       "output_type": "stream",
       "stream": "stdout",
       "text": [
        "\n",
        "2500000"
       ]
      },
      {
       "output_type": "stream",
       "stream": "stdout",
       "text": [
        "\n",
        "2600000"
       ]
      },
      {
       "output_type": "stream",
       "stream": "stdout",
       "text": [
        "\n",
        "2700000"
       ]
      },
      {
       "output_type": "stream",
       "stream": "stdout",
       "text": [
        "\n",
        "2800000"
       ]
      },
      {
       "output_type": "stream",
       "stream": "stdout",
       "text": [
        "\n",
        "2900000"
       ]
      },
      {
       "output_type": "stream",
       "stream": "stdout",
       "text": [
        "\n",
        "3000000"
       ]
      },
      {
       "output_type": "stream",
       "stream": "stdout",
       "text": [
        "\n",
        "3100000"
       ]
      },
      {
       "output_type": "stream",
       "stream": "stdout",
       "text": [
        "\n",
        "3200000"
       ]
      },
      {
       "output_type": "stream",
       "stream": "stdout",
       "text": [
        "\n",
        "3300000"
       ]
      },
      {
       "output_type": "stream",
       "stream": "stdout",
       "text": [
        "\n",
        "Done"
       ]
      },
      {
       "output_type": "stream",
       "stream": "stdout",
       "text": [
        "\n"
       ]
      },
      {
       "metadata": {},
       "output_type": "pyout",
       "prompt_number": 1,
       "text": [
        "LinearRegression(copy_X=True, fit_intercept=True, normalize=False)"
       ]
      }
     ],
     "prompt_number": 1
    },
    {
     "cell_type": "code",
     "collapsed": false,
     "input": [
      "del data\n",
      "del label"
     ],
     "language": "python",
     "metadata": {},
     "outputs": [],
     "prompt_number": 2
    },
    {
     "cell_type": "code",
     "collapsed": false,
     "input": [
      "#Validation\n",
      "\n",
      "validation_data = []\n",
      "validation_label = []\n",
      "input_validation_file = 'test_6_new_rehashed.txt'\n",
      "with open(input_validation_file,'r') as infile:\n",
      "    for line in infile:\n",
      "        \n",
      "        k = random.randint(1,10)\n",
      "        if k > 5:\n",
      "            continue\n",
      "            \n",
      "        li = list(map(int, line.split(',')))\n",
      "\n",
      "        validation_data.append([0 for b in xrange(all_number)])\n",
      "\n",
      "        for i in range(1,len(li)):\n",
      "            if i == 3:\n",
      "                continue\n",
      "            elif i > 3:\n",
      "                validation_data[len(validation_data) - 1][pos[i-2] + li[i]] = 1\n",
      "            else:\n",
      "                validation_data[len(validation_data) - 1][pos[i-1] + li[i]] = 1\n",
      "            \n",
      "        validation_label.append(li[0])\n",
      "        \n",
      "X_validation = np.array(validation_data)\n",
      "Y_validation = np.array(validation_label)\n",
      "result = lr_instance.predict(X_validation)"
     ],
     "language": "python",
     "metadata": {},
     "outputs": [],
     "prompt_number": 3
    },
    {
     "cell_type": "code",
     "collapsed": false,
     "input": [
      "def ROC(label,result):\n",
      "    %matplotlib inline\n",
      "    from sklearn.utils import shuffle\n",
      "    from sklearn.metrics import roc_curve, auc\n",
      "    import pylab as pl\n",
      "    # Compute ROC curve and area the curve\n",
      "    Y = np.array(label)\n",
      "    fpr, tpr, thresholds = roc_curve(Y, result)\n",
      "    roc_auc = auc(fpr, tpr)\n",
      "    print \"Area under the ROC curve : %f\" % roc_auc\n",
      "\n",
      "    # Plot ROC curve\n",
      "    #pl.clf()\n",
      "    pl.plot(fpr, tpr, label='ROC curve (area = %0.2f)' % roc_auc)\n",
      "    pl.plot([0, 1], [0, 1], 'k--')\n",
      "    pl.xlim([0.0, 1.0])\n",
      "    pl.ylim([0.0, 1.0])\n",
      "    pl.xlabel('False Positive Rate')\n",
      "    pl.ylabel('True Positive Rate')\n",
      "    pl.title('Receiver operating characteristic')\n",
      "    pl.legend(loc=\"lower right\")\n",
      "    pl.show()"
     ],
     "language": "python",
     "metadata": {},
     "outputs": [],
     "prompt_number": 4
    },
    {
     "cell_type": "code",
     "collapsed": false,
     "input": [
      "#new test data\n",
      "ROC(Y_validation,result)"
     ],
     "language": "python",
     "metadata": {},
     "outputs": [
      {
       "output_type": "stream",
       "stream": "stdout",
       "text": [
        "Area under the ROC curve : 0.671849\n"
       ]
      },
      {
       "metadata": {},
       "output_type": "display_data",
       "png": "[encoded data removed]",
       "text": [
        "<matplotlib.figure.Figure at 0x10df168d0>"
       ]
      }
     ],
     "prompt_number": 5
    }
   ],
   "metadata": {}
  }
 ]
}