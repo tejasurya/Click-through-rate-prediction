{
 "metadata": {
  "name": "",
  "signature": "sha256:235b2cd92b0dba6055964baceafb719ee44aaea65edafe7981683a3c97a798c1"
 },
 "nbformat": 3,
 "nbformat_minor": 0,
 "worksheets": [
  {
   "cells": [
    {
     "cell_type": "code",
     "collapsed": false,
     "input": [
      "\n",
      "'''\n",
      "id,click,hour,C1,banner_pos,\n",
      "site_id,site_domain,site_category,app_id,app_domain,\n",
      "app_category,device_id,device_ip,device_model,device_type,\n",
      "device_conn_type,C14,C15,C16,C17,\n",
      "C18,C19,C20,C21\n",
      "\u5176\u4e2did, hour\u4e0d\u8981\n",
      "'''\n",
      "name_arr = ['id','click','hour','C1','banner_pos','site_id','site_domain','site_category','app_id','app_domain','app_category','device_id','device_ip','device_model','device_type','device_conn_type','C14','C15','C16','C17','C18','C19','C20','C21']\n",
      "\n",
      "import matplotlib.pyplot as plt\n",
      "import numpy as np\n",
      "input_train_file = \"Data/train\"\n",
      "\n",
      "dictionary = [{} for b in range(24)]\n",
      "\n",
      "\n",
      "with open(input_train_file,'r') as infile:\n",
      "    for line in infile:\n",
      "        \n",
      "        attributes = line.split(',')        \n",
      "        hour = attributes[2]\n",
      "        \n",
      "        if hour >= '14102500':\n",
      "            continue\n",
      "            \n",
      "        for i in range(len(attributes)):\n",
      "            if i == 0 or i == 1 or i == 2:\n",
      "                continue\n",
      "            if attributes[i] not in dictionary[i]:\n",
      "                dictionary[i][attributes[i]] = [0,0]\n",
      "            dictionary[i][attributes[i]][int(attributes[1])] += 1\n",
      "            "
     ],
     "language": "python",
     "metadata": {},
     "outputs": [],
     "prompt_number": 1
    },
    {
     "cell_type": "code",
     "collapsed": false,
     "input": [
      "\n",
      "import numpy as np\n",
      "import matplotlib.pyplot as plt\n",
      "name_arr = ['id','click','hour','C1','banner_pos','site_id','site_domain','site_category','app_id','app_domain','app_category','device_id','device_ip','device_model','device_type','device_conn_type','C14','C15','C16','C17','C18','C19','C20','C21']\n",
      "\n",
      "\n",
      "import math\n",
      "aMeans = []\n",
      "aStd =   []\n",
      "\n",
      "for i in range(len(dictionary)):\n",
      "    if i == 0 or i == 1 or i == 2:\n",
      "        continue\n",
      "    x = [b for b in range(len(dictionary[i]))]\n",
      "    N = len(x)\n",
      "    ind = np.arange(N)\n",
      "    nonclick = []\n",
      "    click = []\n",
      "    total = []\n",
      "    for j in dictionary[i]:\n",
      "        nonclick.append(dictionary[i][j][0])\n",
      "        click.append(dictionary[i][j][1])\n",
      "        total.append(1.0 * dictionary[i][j][1] / (dictionary[i][j][0] + dictionary[i][j][1]))\n",
      "    \n",
      "    aMeans.append(np.mean(total) * 100)\n",
      "    aStd.append(math.sqrt(np.var(total) * 100))\n",
      "    #print i,name_arr[i],N, \"%0.2f\" % (np.var(total) * 100), \"%0.2f\" % (np.mean(total) * 100), \"%0.2f\" % (np.mean(click) * 100)\n",
      "    \n",
      "    \n",
      "    \n",
      "    '''\n",
      "    p1 = plt.bar(ind, click, color='r')\n",
      "    p2 = plt.bar(ind, nonclick, color='b')\n",
      "    plt.legend( (p1[0], p2[0]), ('Click', 'Nonclick') )\n",
      "    plt.ylabel('Number')\n",
      "    plt.title('Numbers by different category')\n",
      "    plt.show()\n",
      "    '''\n",
      "    \n",
      "\n",
      "'''\n",
      "\u6839\u636e\u521a\u521a\u6211\u505a\u7684\u7edf\u8ba1\u7ed3\u679c\uff0c\u6311\u4e00\u4e0b \u6211\u8ba4\u4e3a\u6bd4\u8f83\u6709\u7528attribute\u51fa\u6765\uff1a\n",
      "\u6807\u51c61. \u5c3d\u91cf\u503c\u5c11\n",
      "\u6807\u51c62. \u5c3d\u91cfvariance\u5927\n",
      "\u4e3b\u8981:\n",
      "C1, banner_pos, app_domain, device_type, device_conn_type, C15, C16, C18, C19\n",
      "\u611f\u89c9\u4e8c\u8005\u6709\u5173\u8054:\n",
      "site_category,app_category,\n",
      "'''"
     ],
     "language": "python",
     "metadata": {},
     "outputs": [
      {
       "metadata": {},
       "output_type": "pyout",
       "prompt_number": 2,
       "text": [
        "'\\n\\xe6\\xa0\\xb9\\xe6\\x8d\\xae\\xe5\\x88\\x9a\\xe5\\x88\\x9a\\xe6\\x88\\x91\\xe5\\x81\\x9a\\xe7\\x9a\\x84\\xe7\\xbb\\x9f\\xe8\\xae\\xa1\\xe7\\xbb\\x93\\xe6\\x9e\\x9c\\xef\\xbc\\x8c\\xe6\\x8c\\x91\\xe4\\xb8\\x80\\xe4\\xb8\\x8b \\xe6\\x88\\x91\\xe8\\xae\\xa4\\xe4\\xb8\\xba\\xe6\\xaf\\x94\\xe8\\xbe\\x83\\xe6\\x9c\\x89\\xe7\\x94\\xa8attribute\\xe5\\x87\\xba\\xe6\\x9d\\xa5\\xef\\xbc\\x9a\\n\\xe6\\xa0\\x87\\xe5\\x87\\x861. \\xe5\\xb0\\xbd\\xe9\\x87\\x8f\\xe5\\x80\\xbc\\xe5\\xb0\\x91\\n\\xe6\\xa0\\x87\\xe5\\x87\\x862. \\xe5\\xb0\\xbd\\xe9\\x87\\x8fvariance\\xe5\\xa4\\xa7\\n\\xe4\\xb8\\xbb\\xe8\\xa6\\x81:\\nC1, banner_pos, app_domain, device_type, device_conn_type, C15, C16, C18, C19\\n\\xe6\\x84\\x9f\\xe8\\xa7\\x89\\xe4\\xba\\x8c\\xe8\\x80\\x85\\xe6\\x9c\\x89\\xe5\\x85\\xb3\\xe8\\x81\\x94:\\nsite_category,app_category,\\n'"
       ]
      }
     ],
     "prompt_number": 2
    },
    {
     "cell_type": "code",
     "collapsed": false,
     "input": [
      "import numpy as np\n",
      "import matplotlib.pyplot as plt\n",
      "\n",
      "fig = plt.figure()\n",
      "ax = fig.add_subplot(111)\n",
      "\n",
      "## the data\n",
      "N = 10\n",
      "aMeanst = [ aMeans[b] for b in range(0,10)]\n",
      "aStdt =   [ aStd[b] for b in range(0,10)]\n",
      "\n",
      "\n",
      "## necessary variables\n",
      "ind = np.arange(N)                # the x locations for the groups\n",
      "width = 0.35                      # the width of the bars\n",
      "\n",
      "## the bars\n",
      "rects1 = ax.bar(ind, aMeanst, width,\n",
      "                color='blue',\n",
      "                yerr=aStdt,\n",
      "                error_kw=dict(elinewidth=2,ecolor='red'))\n",
      "\n",
      "# axes and labels\n",
      "ax.set_xlim(-width,len(ind)+width)\n",
      "ax.set_ylim(0,45)\n",
      "ax.set_ylabel('Click Rate')\n",
      "ax.set_title('Click Rate Mean and Std')\n",
      "xTickMarks = ['Attribute'+str(i) for i in range(0,11)]\n",
      "ax.set_xticks(ind+width)\n",
      "xtickNames = ax.set_xticklabels(xTickMarks)\n",
      "plt.setp(xtickNames, rotation=45, fontsize=10)\n",
      "plt.show()"
     ],
     "language": "python",
     "metadata": {},
     "outputs": []
    },
    {
     "cell_type": "code",
     "collapsed": false,
     "input": [
      "aStdt"
     ],
     "language": "python",
     "metadata": {},
     "outputs": [
      {
       "metadata": {},
       "output_type": "pyout",
       "prompt_number": 7,
       "text": [
        "[1.3282861004910322,\n",
        " 2.2351794564404917,\n",
        " 2.711704783679263,\n",
        " 0.8142909187977612,\n",
        " 2.852145197761649,\n",
        " 2.7445248556832094,\n",
        " 0.7390109180269676,\n",
        " 3.597544317217706,\n",
        " 3.5519804847490106]"
       ]
      }
     ],
     "prompt_number": 7
    },
    {
     "cell_type": "code",
     "collapsed": false,
     "input": [
      "#frequent pattern mining in 2 dmin for site_category and app_category\n",
      "'''\n",
      "target:\n",
      "site_category 2   num:24\n",
      "app_category  4   num:35\n",
      "'''\n",
      "\n",
      "import matplotlib.pyplot as plt\n",
      "import numpy as np\n",
      "input_train_file = \"Data/train_1234_new_rehashed.txt\"\n",
      "        \n",
      "click_or_not = [[0,0] for b in range(24 * 35)]\n",
      "\n",
      "with open(input_train_file,'r') as infile:\n",
      "    for line in infile:\n",
      "        attributes = line.split(',')        \n",
      "        site_c = int(attributes[2])\n",
      "        app_c = int(attributes[4])\n",
      "        click_flag = int(attributes[0])\n",
      "        click_or_not[site_c * 35 + app_c][click_flag] += 1\n",
      "\n",
      "click_rate = []\n",
      "for i in range(len(click_or_not)):\n",
      "    if(click_or_not[i][0] == 0 and click_or_not[i][1] == 0):\n",
      "        continue\n",
      "    click_rate.append(1.0 * click_or_not[i][1] / (1.0 * click_or_not[i][1] + 1.0 * click_or_not[i][0]))\n",
      "print  \"%0.2f\" % (np.var(click_rate) * 100), \"%0.2f\" % (np.mean(click_rate) * 100),len(click_rate)\n"
     ],
     "language": "python",
     "metadata": {},
     "outputs": [
      {
       "ename": "ZeroDivisionError",
       "evalue": "float division by zero",
       "output_type": "pyerr",
       "traceback": [
        "\u001b[0;31m---------------------------------------------------------------------------\u001b[0m\n\u001b[0;31mZeroDivisionError\u001b[0m                         Traceback (most recent call last)",
        "\u001b[0;32m<ipython-input-1-0f49b835e9e2>\u001b[0m in \u001b[0;36m<module>\u001b[0;34m()\u001b[0m\n\u001b[1;32m     22\u001b[0m \u001b[0mclick_rate\u001b[0m \u001b[0;34m=\u001b[0m \u001b[0;34m[\u001b[0m\u001b[0;36m0\u001b[0m \u001b[0;32mfor\u001b[0m \u001b[0mb\u001b[0m \u001b[0;32min\u001b[0m \u001b[0mrange\u001b[0m\u001b[0;34m(\u001b[0m\u001b[0;36m24\u001b[0m \u001b[0;34m*\u001b[0m \u001b[0;36m35\u001b[0m\u001b[0;34m)\u001b[0m\u001b[0;34m]\u001b[0m\u001b[0;34m\u001b[0m\u001b[0m\n\u001b[1;32m     23\u001b[0m \u001b[0;32mfor\u001b[0m \u001b[0mi\u001b[0m \u001b[0;32min\u001b[0m \u001b[0mrange\u001b[0m\u001b[0;34m(\u001b[0m\u001b[0mlen\u001b[0m\u001b[0;34m(\u001b[0m\u001b[0mclick_or_not\u001b[0m\u001b[0;34m)\u001b[0m\u001b[0;34m)\u001b[0m\u001b[0;34m:\u001b[0m\u001b[0;34m\u001b[0m\u001b[0m\n\u001b[0;32m---> 24\u001b[0;31m     \u001b[0mclick_rate\u001b[0m \u001b[0;34m=\u001b[0m \u001b[0;36m1.0\u001b[0m \u001b[0;34m*\u001b[0m \u001b[0mclick_or_not\u001b[0m\u001b[0;34m[\u001b[0m\u001b[0mi\u001b[0m\u001b[0;34m]\u001b[0m\u001b[0;34m[\u001b[0m\u001b[0;36m1\u001b[0m\u001b[0;34m]\u001b[0m \u001b[0;34m/\u001b[0m \u001b[0;34m(\u001b[0m\u001b[0;36m1.0\u001b[0m \u001b[0;34m*\u001b[0m \u001b[0mclick_or_not\u001b[0m\u001b[0;34m[\u001b[0m\u001b[0mi\u001b[0m\u001b[0;34m]\u001b[0m\u001b[0;34m[\u001b[0m\u001b[0;36m1\u001b[0m\u001b[0;34m]\u001b[0m \u001b[0;34m+\u001b[0m \u001b[0;36m1.0\u001b[0m \u001b[0;34m*\u001b[0m \u001b[0mclick_or_not\u001b[0m\u001b[0;34m[\u001b[0m\u001b[0mi\u001b[0m\u001b[0;34m]\u001b[0m\u001b[0;34m[\u001b[0m\u001b[0;36m0\u001b[0m\u001b[0;34m]\u001b[0m\u001b[0;34m)\u001b[0m\u001b[0;34m\u001b[0m\u001b[0m\n\u001b[0m\u001b[1;32m     25\u001b[0m \u001b[0;32mprint\u001b[0m  \u001b[0;34m\"%0.2f\"\u001b[0m \u001b[0;34m%\u001b[0m \u001b[0;34m(\u001b[0m\u001b[0mnp\u001b[0m\u001b[0;34m.\u001b[0m\u001b[0mvar\u001b[0m\u001b[0;34m(\u001b[0m\u001b[0mclick_rate\u001b[0m\u001b[0;34m)\u001b[0m \u001b[0;34m*\u001b[0m \u001b[0;36m100\u001b[0m\u001b[0;34m)\u001b[0m\u001b[0;34m,\u001b[0m \u001b[0;34m\"%0.2f\"\u001b[0m \u001b[0;34m%\u001b[0m \u001b[0;34m(\u001b[0m\u001b[0mnp\u001b[0m\u001b[0;34m.\u001b[0m\u001b[0mmean\u001b[0m\u001b[0;34m(\u001b[0m\u001b[0mclick_rate\u001b[0m\u001b[0;34m)\u001b[0m \u001b[0;34m*\u001b[0m \u001b[0;36m100\u001b[0m\u001b[0;34m)\u001b[0m\u001b[0;34m\u001b[0m\u001b[0m\n",
        "\u001b[0;31mZeroDivisionError\u001b[0m: float division by zero"
       ]
      }
     ],
     "prompt_number": 1
    },
    {
     "cell_type": "code",
     "collapsed": false,
     "input": [
      "click_rate = []\n",
      "for i in range(len(click_or_not)):\n",
      "    if(click_or_not[i][0] == 0 and click_or_not[i][1] == 0):\n",
      "        continue\n",
      "    click_rate.append(1.0 * click_or_not[i][1] / (1.0 * click_or_not[i][1] + 1.0 * click_or_not[i][0]))\n",
      "print  \"%0.2f\" % (np.var(click_rate) * 100), \"%0.2f\" % (np.mean(click_rate) * 100),len(click_rate)"
     ],
     "language": "python",
     "metadata": {},
     "outputs": [
      {
       "output_type": "stream",
       "stream": "stdout",
       "text": [
        "0.62 8.30 58\n"
       ]
      }
     ],
     "prompt_number": 8
    },
    {
     "cell_type": "code",
     "collapsed": false,
     "input": [
      "\n",
      "import numpy as np\n",
      "import matplotlib.pyplot as plt\n",
      "name_arr = ['id','click','hour','C1','banner_pos','site_id','site_domain','site_category','app_id','app_domain','app_category','device_id','device_ip','device_model','device_type','device_conn_type','C14','C15','C16','C17','C18','C19','C20','C21']\n",
      "\n",
      "for i in range(4,5):#len(dictionary)):\n",
      "    #if i == 0 or i == 1 or i == 2 or i == 5 or i == :\n",
      "    #    continue\n",
      "    x = [b for b in range(len(dictionary[i]))]\n",
      "    N = len(x)\n",
      "    ind = np.arange(N)\n",
      "    nonclick = []\n",
      "    click = []\n",
      "    total = []\n",
      "    for j in dictionary[i]:\n",
      "        nonclick.append(dictionary[i][j][0])\n",
      "        click.append(dictionary[i][j][1])\n",
      "        total.append(1.0 * dictionary[i][j][1] / (dictionary[i][j][0] + dictionary[i][j][1]))\n",
      "    p1 = plt.bar(ind, total, color='r')\n",
      "    plt.show()\n",
      "    '''\n",
      "    p1 = plt.bar(ind, click, color='r')\n",
      "    p2 = plt.bar(ind, nonclick, color='b')\n",
      "    plt.legend( (p1[0], p2[0]), ('Click', 'Nonclick') )\n",
      "    plt.ylabel('Number')\n",
      "    plt.title('Numbers by different category')\n",
      "    plt.show()\n",
      "    '''\n"
     ],
     "language": "python",
     "metadata": {},
     "outputs": [],
     "prompt_number": 60
    }
   ],
   "metadata": {}
  }
 ]
}