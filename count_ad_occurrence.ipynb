{
 "metadata": {
  "name": "",
  "signature": "sha256:ddaaf8c7637b056f8dd432b468dd37d44c26a97a0133edf3c82d71bfe11569df"
 },
 "nbformat": 3,
 "nbformat_minor": 0,
 "worksheets": [
  {
   "cells": [
    {
     "cell_type": "code",
     "collapsed": false,
     "input": [
      "#!/usr/bin/python\n",
      "import json\n",
      "input_file = \"Data/train_7days.txt\"\n",
      "output_file = \"Data/train_count_ad_number.json\"\n",
      "\n",
      "ads_train = {}\n",
      "\n",
      "with open(input_file,'r') as infile:\n",
      "    for line in infile:\n",
      "        attributes = line.split(',') \n",
      "        ad_id = attributes[0]\n",
      "        if ad_id not in ads_train:\n",
      "            ads_train[ad_id] = 0\n",
      "        ads_train[ad_id] += 1\n",
      "        \n",
      "with open ('Data/train_count_ad_number.json','w') as fp:\n",
      "    json.dump(ads_train,fp,indent=3)"
     ],
     "language": "python",
     "metadata": {},
     "outputs": [],
     "prompt_number": 1
    },
    {
     "cell_type": "code",
     "collapsed": false,
     "input": [
      "len(ads_train)"
     ],
     "language": "python",
     "metadata": {},
     "outputs": [
      {
       "metadata": {},
       "output_type": "pyout",
       "prompt_number": 23,
       "text": [
        "23865189"
       ]
      }
     ],
     "prompt_number": 23
    },
    {
     "cell_type": "code",
     "collapsed": false,
     "input": [
      "# draw a distribution graph about the number of ads \n",
      "import matplotlib.pyplot as plt\n",
      "from pylab import *\n",
      "r = [0 for b in range(100)]\n",
      "t = ads_train.values()\n",
      "for i in xrange(0,len(t)):\n",
      "    r[t[i] - 1] += 1\n"
     ],
     "language": "python",
     "metadata": {},
     "outputs": [],
     "prompt_number": 27
    },
    {
     "cell_type": "code",
     "collapsed": false,
     "input": [
      "t[1010101]"
     ],
     "language": "python",
     "metadata": {},
     "outputs": [
      {
       "metadata": {},
       "output_type": "pyout",
       "prompt_number": 34,
       "text": [
        "1"
       ]
      }
     ],
     "prompt_number": 34
    },
    {
     "cell_type": "code",
     "collapsed": false,
     "input": [
      "import numpy as np\n",
      "x = arange(0, 100)"
     ],
     "language": "python",
     "metadata": {},
     "outputs": [],
     "prompt_number": 24
    },
    {
     "cell_type": "code",
     "collapsed": false,
     "input": [
      "input_file = \"Data/test_7th.txt\"\n",
      "output_file = \"Data/test_count_ad_number.json\"\n",
      "\n",
      "ads_test = {}\n",
      "\n",
      "with open(input_file,'r') as infile:\n",
      "    for line in infile:\n",
      "        attributes = line.split(',') \n",
      "        ad_id = attributes[0]\n",
      "        if ad_id not in ads_train:\n",
      "            ads_train[ad_id] = 0\n",
      "        ads_train[ad_id] += 1\n",
      "        \n",
      "with open ('Data/test_count_ad_number.json','w') as fp:\n",
      "    json.dump(ads_test,fp,indent=3)"
     ],
     "language": "python",
     "metadata": {},
     "outputs": []
    }
   ],
   "metadata": {}
  }
 ]
}